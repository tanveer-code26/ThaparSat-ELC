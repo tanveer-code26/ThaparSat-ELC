{
 "cells": [
  {
   "cell_type": "code",
   "execution_count": 2,
   "metadata": {},
   "outputs": [],
   "source": [
    "import math"
   ]
  },
  {
   "cell_type": "code",
   "execution_count": 1,
   "metadata": {},
   "outputs": [],
   "source": [
    "R_eq = 6378 #km\n",
    "R_pol = 6357 #km"
   ]
  },
  {
   "cell_type": "code",
   "execution_count": 7,
   "metadata": {},
   "outputs": [],
   "source": [
    "def mapping(x,y,H,lambda_0): #x-horizontal scan, y-vertical scan, H-altitude, lamba_0-longitude of projection origin\n",
    "    x = math.radians(x)\n",
    "    y = math.radians(y)\n",
    "\n",
    "    a = pow(math.sin(x),2) + ((pow(math.cos(x),2)) * (pow(math.cos(y),2) + (pow((R_eq / R_pol) , 2) * pow(math.sin(y),2))))\n",
    "    b = -2 * H * math.cos(x) * math.cos(y)\n",
    "    c = pow(H,2) - pow(R_eq,2)\n",
    "\n",
    "    rs = (-b - math.sqrt(pow(b,2) - 4*a*c)) / (2 * a)\n",
    "\n",
    "    sx = rs * math.cos(x) * math.cos(y)\n",
    "    sy = -rs * math.sin(x)\n",
    "    sz = rs * math.cos(x) * math.sin(y)\n",
    "\n",
    "    lat = math.atan(pow((R_eq / R_pol) , 2) * (sz / math.sqrt(pow(H - sx, 2) + (sy*sy))))\n",
    "    long = lambda_0 - math.atan(sy / (H - sx))\n",
    "\n",
    "    return {lat,long}\n",
    "                \n"
   ]
  },
  {
   "cell_type": "code",
   "execution_count": 15,
   "metadata": {},
   "outputs": [
    {
     "data": {
      "text/plain": [
       "{-90.62365469928832, -0.6240174480267096}"
      ]
     },
     "execution_count": 15,
     "metadata": {},
     "output_type": "execute_result"
    }
   ],
   "source": [
    "mapping(30,45,500,-90)"
   ]
  }
 ],
 "metadata": {
  "kernelspec": {
   "display_name": "Python 3",
   "language": "python",
   "name": "python3"
  },
  "language_info": {
   "codemirror_mode": {
    "name": "ipython",
    "version": 3
   },
   "file_extension": ".py",
   "mimetype": "text/x-python",
   "name": "python",
   "nbconvert_exporter": "python",
   "pygments_lexer": "ipython3",
   "version": "3.10.7"
  }
 },
 "nbformat": 4,
 "nbformat_minor": 2
}
