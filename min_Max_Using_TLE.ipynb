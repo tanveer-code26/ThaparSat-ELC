{
 "cells": [
  {
   "cell_type": "code",
   "execution_count": 1,
   "metadata": {},
   "outputs": [
    {
     "name": "stdout",
     "output_type": "stream",
     "text": [
      "Collecting sgp4\n",
      "  Downloading sgp4-2.23-cp310-cp310-win_amd64.whl.metadata (32 kB)\n",
      "Downloading sgp4-2.23-cp310-cp310-win_amd64.whl (160 kB)\n",
      "   ---------------------------------------- 0.0/160.8 kB ? eta -:--:--\n",
      "   -------------------------------------- - 153.6/160.8 kB 9.6 MB/s eta 0:00:01\n",
      "   ---------------------------------------- 160.8/160.8 kB 3.3 MB/s eta 0:00:00\n",
      "Installing collected packages: sgp4\n",
      "Successfully installed sgp4-2.23\n"
     ]
    }
   ],
   "source": [
    "!pip install sgp4"
   ]
  },
  {
   "cell_type": "code",
   "execution_count": 7,
   "metadata": {},
   "outputs": [
    {
     "name": "stdout",
     "output_type": "stream",
     "text": [
      "Collecting skyfield\n",
      "  Downloading skyfield-1.49-py3-none-any.whl.metadata (2.4 kB)\n",
      "Requirement already satisfied: certifi>=2017.4.17 in c:\\users\\msi\\appdata\\local\\programs\\python\\python310\\lib\\site-packages (from skyfield) (2022.12.7)\n",
      "Collecting jplephem>=2.13 (from skyfield)\n",
      "  Downloading jplephem-2.22-py3-none-any.whl.metadata (22 kB)\n",
      "Requirement already satisfied: numpy in c:\\users\\msi\\appdata\\local\\programs\\python\\python310\\lib\\site-packages (from skyfield) (1.23.3)\n",
      "Requirement already satisfied: sgp4>=2.2 in c:\\users\\msi\\appdata\\local\\programs\\python\\python310\\lib\\site-packages (from skyfield) (2.23)\n",
      "Downloading skyfield-1.49-py3-none-any.whl (336 kB)\n",
      "   ---------------------------------------- 0.0/336.2 kB ? eta -:--:--\n",
      "   ----------------------------- ---------- 245.8/336.2 kB 5.0 MB/s eta 0:00:01\n",
      "   ---------------------------------------- 336.2/336.2 kB 3.5 MB/s eta 0:00:00\n",
      "Downloading jplephem-2.22-py3-none-any.whl (47 kB)\n",
      "   ---------------------------------------- 0.0/47.2 kB ? eta -:--:--\n",
      "   ---------------------------------------- 47.2/47.2 kB 2.3 MB/s eta 0:00:00\n",
      "Installing collected packages: jplephem, skyfield\n",
      "Successfully installed jplephem-2.22 skyfield-1.49\n"
     ]
    }
   ],
   "source": [
    "!pip install skyfield"
   ]
  },
  {
   "cell_type": "code",
   "execution_count": 3,
   "metadata": {},
   "outputs": [],
   "source": [
    "from sgp4.api import Satrec\n",
    "from sgp4.api import WGS72\n",
    "import numpy as np"
   ]
  },
  {
   "cell_type": "code",
   "execution_count": 15,
   "metadata": {},
   "outputs": [],
   "source": [
    "line1 = '1 28654U 05018A   23179.75299769  .00000097  00000+0  85403-4 0  9995'\n",
    "line2 = '2 28654  99.1427 163.1612 0012535  38.2684  16.2937 14.12420431933700'\n",
    "\n",
    "satellite = Satrec.twoline2rv(line1, line2)"
   ]
  },
  {
   "cell_type": "code",
   "execution_count": 16,
   "metadata": {},
   "outputs": [],
   "source": [
    "def propagate_satellite(satellite, jd, fr):\n",
    "    e, r, v = satellite.sgp4(jd, fr)\n",
    "    return r"
   ]
  },
  {
   "cell_type": "code",
   "execution_count": 18,
   "metadata": {},
   "outputs": [
    {
     "name": "stdout",
     "output_type": "stream",
     "text": [
      "Minimum Latitude: -80.856735803025\n",
      "Maximum Latitude: 80.85631408575544\n",
      "Minimum Longitude: -178.90587817703394\n",
      "Maximum Longitude: 176.68730920189313\n"
     ]
    }
   ],
   "source": [
    "minutes_per_day = 1440\n",
    "jd_start = 23300  # Example Julian date for start of propagation\n",
    "\n",
    "# Arrays to store latitude and longitude\n",
    "latitudes = []\n",
    "longitudes = []\n",
    "\n",
    "# Propagate satellite position over one day at 1-minute intervals\n",
    "for minute in range(minutes_per_day):\n",
    "    jd = jd_start + minute / minutes_per_day\n",
    "    fr = minute / minutes_per_day - int(minute / minutes_per_day)\n",
    "    r = propagate_satellite(satellite, jd, fr)\n",
    "    \n",
    "    # Convert position vector to latitude and longitude\n",
    "    x, y, z = r\n",
    "    norm = np.linalg.norm([x, y, z])\n",
    "    lat = np.arcsin(z / norm) * 180 / np.pi\n",
    "    lon = np.arctan2(y, x) * 180 / np.pi\n",
    "\n",
    "    latitudes.append(lat)\n",
    "    longitudes.append(lon)\n",
    "\n",
    "# Find the minimum and maximum latitudes and longitudes\n",
    "min_lat = min(latitudes)\n",
    "max_lat = max(latitudes)\n",
    "min_lon = min(longitudes)\n",
    "max_lon = max(longitudes)\n",
    "\n",
    "print(f\"Minimum Latitude: {min_lat}\")\n",
    "print(f\"Maximum Latitude: {max_lat}\")\n",
    "print(f\"Minimum Longitude: {min_lon}\")\n",
    "print(f\"Maximum Longitude: {max_lon}\")"
   ]
  },
  {
   "cell_type": "code",
   "execution_count": 26,
   "metadata": {},
   "outputs": [
    {
     "name": "stdout",
     "output_type": "stream",
     "text": [
      "Max Latitude: -34.488968353457146 degrees\n",
      "Min Latitude: -34.488968353457146 degrees\n",
      "Max Longitude: 97.01752829895618 degrees\n",
      "Min Longitude: 97.01752829895618 degrees\n"
     ]
    }
   ],
   "source": [
    "from skyfield.api import load, EarthSatellite\n",
    "import numpy as np\n",
    "\n",
    "# Load TLE data\n",
    "tle_lines = [\n",
    "    '1 28654U 05018A   23179.75299769  .00000097  00000+0  85403-4 0  9995',\n",
    "    '2 28654  99.1427 163.1612 0012535  38.2684  16.2937 14.12420431933700'\n",
    "]\n",
    "satellite = EarthSatellite(tle_lines[0], tle_lines[1], 'NOAA 18', load.timescale())\n",
    "\n",
    "# Time range for the analysis\n",
    "ts = load.timescale()\n",
    "times = ts.utc(2023, 10, 27,10,40,00) # year,month,day,hour,min,sec\n",
    "\n",
    "# Calculate satellite positions\n",
    "geocentric = satellite.at(times)\n",
    "\n",
    "# Convert to geographic coordinates\n",
    "subpoint = geocentric.subpoint()\n",
    "latitudes = subpoint.latitude.degrees\n",
    "longitudes = subpoint.longitude.degrees\n",
    "\n",
    "# Find max and min latitude and longitude\n",
    "max_latitude = np.max(latitudes)\n",
    "min_latitude = np.min(latitudes)\n",
    "max_longitude = np.max(longitudes)\n",
    "min_longitude = np.min(longitudes)\n",
    "\n",
    "print(f\"Max Latitude: {max_latitude} degrees\")\n",
    "print(f\"Min Latitude: {min_latitude} degrees\")\n",
    "print(f\"Max Longitude: {max_longitude} degrees\")\n",
    "print(f\"Min Longitude: {min_longitude} degrees\")\n"
   ]
  },
  {
   "cell_type": "code",
   "execution_count": null,
   "metadata": {},
   "outputs": [],
   "source": []
  }
 ],
 "metadata": {
  "kernelspec": {
   "display_name": "Python 3",
   "language": "python",
   "name": "python3"
  },
  "language_info": {
   "codemirror_mode": {
    "name": "ipython",
    "version": 3
   },
   "file_extension": ".py",
   "mimetype": "text/x-python",
   "name": "python",
   "nbconvert_exporter": "python",
   "pygments_lexer": "ipython3",
   "version": "3.10.7"
  }
 },
 "nbformat": 4,
 "nbformat_minor": 2
}
