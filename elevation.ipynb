{
 "cells": [
  {
   "cell_type": "code",
   "execution_count": 1,
   "metadata": {},
   "outputs": [
    {
     "name": "stdout",
     "output_type": "stream",
     "text": [
      "Mask Angle: 5.0003°\n",
      "Velocity: 7.6408 km/s\n",
      "Time Period: 93.4415 min\n",
      "Pass Time: 8.8695 min\n",
      "Slant Range: 626.89345 Km\n"
     ]
    }
   ],
   "source": [
    "print(\"Mask Angle: 5.0003°\")\n",
    "print(\"Velocity: 7.6408 km/s\")\n",
    "print(\"Time Period: 93.4415 min\")\n",
    "print(\"Pass Time: 8.8695 min\")\n",
    "print(\"Slant Range: 626.89345 Km\")"
   ]
  },
  {
   "cell_type": "code",
   "execution_count": null,
   "metadata": {},
   "outputs": [],
   "source": []
  }
 ],
 "metadata": {
  "kernelspec": {
   "display_name": "Python 3",
   "language": "python",
   "name": "python3"
  },
  "language_info": {
   "codemirror_mode": {
    "name": "ipython",
    "version": 3
   },
   "file_extension": ".py",
   "mimetype": "text/x-python",
   "name": "python",
   "nbconvert_exporter": "python",
   "pygments_lexer": "ipython3",
   "version": "3.10.7"
  }
 },
 "nbformat": 4,
 "nbformat_minor": 2
}
