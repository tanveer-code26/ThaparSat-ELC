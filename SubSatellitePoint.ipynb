{
 "cells": [
  {
   "cell_type": "code",
   "execution_count": 8,
   "metadata": {},
   "outputs": [],
   "source": [
    "from skyfield.api import EarthSatellite\n",
    "\n",
    "tle_line1 = \"28654U 05018A   24186.90779784  .00000286  00000-0  17601-3 0  9995\"\n",
    "tle_line2 = \"28654  98.8743 263.7259 0014345  17.7379 342.4291 14.13245206985679\"\n",
    "\n",
    "satellite = EarthSatellite(tle_line1, tle_line2)\n"
   ]
  },
  {
   "cell_type": "code",
   "execution_count": 9,
   "metadata": {},
   "outputs": [],
   "source": [
    "from skyfield.api import load\n",
    "\n",
    "ts = load.timescale()\n",
    "t = ts.now()\n",
    "geocentric = satellite.at(t)"
   ]
  },
  {
   "cell_type": "code",
   "execution_count": 10,
   "metadata": {},
   "outputs": [
    {
     "name": "stdout",
     "output_type": "stream",
     "text": [
      "Nadir Point: Latitude = nan°, Longitude = nan°, Altitude = nan km\n"
     ]
    }
   ],
   "source": [
    "subpoint = geocentric.subpoint()\n",
    "latitude = subpoint.latitude.degrees\n",
    "longitude = subpoint.longitude.degrees\n",
    "altitude = subpoint.elevation.km\n",
    "\n",
    "print(f'Nadir Point: Latitude = {latitude}°, Longitude = {longitude}°, Altitude = {altitude} km')\n"
   ]
  }
 ],
 "metadata": {
  "kernelspec": {
   "display_name": "Python 3",
   "language": "python",
   "name": "python3"
  },
  "language_info": {
   "codemirror_mode": {
    "name": "ipython",
    "version": 3
   },
   "file_extension": ".py",
   "mimetype": "text/x-python",
   "name": "python",
   "nbconvert_exporter": "python",
   "pygments_lexer": "ipython3",
   "version": "3.10.7"
  }
 },
 "nbformat": 4,
 "nbformat_minor": 2
}
