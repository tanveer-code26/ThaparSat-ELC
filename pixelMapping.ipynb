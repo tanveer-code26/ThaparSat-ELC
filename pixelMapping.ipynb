{
 "cells": [
  {
   "cell_type": "code",
   "execution_count": 4,
   "metadata": {},
   "outputs": [
    {
     "name": "stdout",
     "output_type": "stream",
     "text": [
      "Latitude: 40.70979147001893, Longitude: 123.6254251506847, Altitude: 429791.76004184224\n"
     ]
    }
   ],
   "source": [
    "from sgp4.api import Satrec, WGS72\n",
    "from datetime import datetime\n",
    "import pyproj\n",
    "\n",
    "# TLE data for a satellite\n",
    "line1 = '1 25544U 98067A   20356.54791667  .00016717  00000-0  10270-3 0  9003'\n",
    "line2 = '2 25544  51.6434  21.4215 0007516  45.8848 314.2827 15.49456387255089'\n",
    "\n",
    "# Create satellite object\n",
    "satellite = Satrec.twoline2rv(line1, line2)\n",
    "\n",
    "# Define time\n",
    "jd, fr = 2458827.5, 0.7842  # Julian date and fraction\n",
    "e, r, v = satellite.sgp4(jd, fr)\n",
    "\n",
    "# ECI coordinates (r is in kilometers)\n",
    "x_eci, y_eci, z_eci = r\n",
    "\n",
    "# Convert ECI to ECEF\n",
    "ecef = pyproj.Proj(proj='geocent', ellps='WGS84', datum='WGS84')\n",
    "latlon = pyproj.Proj(proj='latlong', ellps='WGS84', datum='WGS84')\n",
    "transform = pyproj.Transformer.from_proj(ecef, latlon)\n",
    "longitude, latitude, altitude = transform.transform(x_eci * 1000, y_eci * 1000, z_eci * 1000, radians=False)\n",
    "\n",
    "print(f\"Latitude: {latitude}, Longitude: {longitude}, Altitude: {altitude}\")"
   ]
  },
  {
   "cell_type": "code",
   "execution_count": 7,
   "metadata": {},
   "outputs": [
    {
     "name": "stdout",
     "output_type": "stream",
     "text": [
      "Center Pixel Latitude: 40.53181707822618, Longitude: 123.6254251506847\n"
     ]
    }
   ],
   "source": [
    "import numpy as np\n",
    "import pyproj\n",
    "\n",
    "# Define the satellite's position and velocity in ECI (example values in km and km/s)\n",
    "satellite_position_eci = [x_eci, y_eci, z_eci]  # example ECI position in kilometers\n",
    "\n",
    "# Set the reference time for the position (example: July 1, 2020, at 12:00:00 UTC)\n",
    "from datetime import datetime\n",
    "reference_time = datetime(2024, 11, 3, 11, 7, 0)\n",
    "\n",
    "# Convert ECI to ECEF\n",
    "eci_to_ecef_transformer = pyproj.Transformer.from_crs(\"epsg:4978\", \"epsg:4978\", always_xy=True)\n",
    "\n",
    "# Define the image dimensions and pixel size\n",
    "image_width = 2048  # pixels\n",
    "image_height = 2048  # pixels\n",
    "pixel_size = 288  # meters\n",
    "\n",
    "# Convert satellite position from kilometers to meters\n",
    "x_eci, y_eci, z_eci = [coord * 1000 for coord in satellite_position_eci]\n",
    "\n",
    "# Perform the ECI to ECEF transformation (without time argument)\n",
    "x_ecef, y_ecef, z_ecef = eci_to_ecef_transformer.transform(x_eci, y_eci, z_eci)\n",
    "\n",
    "# Define a geodetic coordinate system for lat/lon conversion\n",
    "geodetic = pyproj.CRS(\"EPSG:4326\")\n",
    "\n",
    "# Convert ECEF to geodetic (latitude, longitude, altitude)\n",
    "ecef_to_geodetic_transformer = pyproj.Transformer.from_crs(\"EPSG:4978\", geodetic, always_xy=True)\n",
    "lon, lat, alt = ecef_to_geodetic_transformer.transform(x_ecef, y_ecef, z_ecef)\n",
    "\n",
    "# Function to map pixel coordinates to geographic coordinates\n",
    "def pixel_to_latlon(row, col, lat, lon, pixel_size, image_width, image_height):\n",
    "    # Calculate the offset from the sub-satellite point\n",
    "    delta_x = (col - image_width / 2) * pixel_size\n",
    "    delta_y = (row - image_height / 2) * pixel_size\n",
    "\n",
    "    # Approximate conversion of meters to degrees\n",
    "    lat_per_meter = 1 / 111320\n",
    "    lon_per_meter = 1 / (111320 * np.cos(np.deg2rad(lat)))\n",
    "\n",
    "    # Apply the offset to the sub-satellite point to get the pixel's latitude and longitude\n",
    "    pixel_lat = lat + delta_y * lat_per_meter\n",
    "    pixel_lon = lon + delta_x * lon_per_meter\n",
    "\n",
    "    return pixel_lat, pixel_lon\n",
    "\n",
    "# Example: Get latitude and longitude for the center pixel\n",
    "center_pixel_lat, center_pixel_lon = pixel_to_latlon(image_height / 2, image_width / 2, lat, lon, pixel_size, image_width, image_height)\n",
    "\n",
    "print(f\"Center Pixel Latitude: {center_pixel_lat}, Longitude: {center_pixel_lon}\")\n",
    "\n",
    "# Optionally, you can iterate over all pixels to get their lat/lon\n",
    "pixel_lat_lon_map = np.zeros((image_height, image_width, 2))\n",
    "for row in range(image_height):\n",
    "    for col in range(image_width):\n",
    "        pixel_lat, pixel_lon = pixel_to_latlon(row, col, lat, lon, pixel_size, image_width, image_height)\n",
    "        pixel_lat_lon_map[row, col, 0] = pixel_lat\n",
    "        pixel_lat_lon_map[row, col, 1] = pixel_lon\n",
    "\n",
    "# Now, pixel_lat_lon_map contains the lat/lon for each pixel in the image\n"
   ]
  },
  {
   "cell_type": "code",
   "execution_count": 8,
   "metadata": {},
   "outputs": [
    {
     "data": {
      "text/plain": [
       "array([[[ 37.88258963, 120.13980687],\n",
       "        [ 37.88258963, 120.14321079],\n",
       "        [ 37.88258963, 120.14661471],\n",
       "        ...,\n",
       "        [ 37.88258963, 127.10083166],\n",
       "        [ 37.88258963, 127.10423559],\n",
       "        [ 37.88258963, 127.10763951]],\n",
       "\n",
       "       [[ 37.88517676, 120.13980687],\n",
       "        [ 37.88517676, 120.14321079],\n",
       "        [ 37.88517676, 120.14661471],\n",
       "        ...,\n",
       "        [ 37.88517676, 127.10083166],\n",
       "        [ 37.88517676, 127.10423559],\n",
       "        [ 37.88517676, 127.10763951]],\n",
       "\n",
       "       [[ 37.8877639 , 120.13980687],\n",
       "        [ 37.8877639 , 120.14321079],\n",
       "        [ 37.8877639 , 120.14661471],\n",
       "        ...,\n",
       "        [ 37.8877639 , 127.10083166],\n",
       "        [ 37.8877639 , 127.10423559],\n",
       "        [ 37.8877639 , 127.10763951]],\n",
       "\n",
       "       ...,\n",
       "\n",
       "       [[ 43.17328312, 120.13980687],\n",
       "        [ 43.17328312, 120.14321079],\n",
       "        [ 43.17328312, 120.14661471],\n",
       "        ...,\n",
       "        [ 43.17328312, 127.10083166],\n",
       "        [ 43.17328312, 127.10423559],\n",
       "        [ 43.17328312, 127.10763951]],\n",
       "\n",
       "       [[ 43.17587026, 120.13980687],\n",
       "        [ 43.17587026, 120.14321079],\n",
       "        [ 43.17587026, 120.14661471],\n",
       "        ...,\n",
       "        [ 43.17587026, 127.10083166],\n",
       "        [ 43.17587026, 127.10423559],\n",
       "        [ 43.17587026, 127.10763951]],\n",
       "\n",
       "       [[ 43.17845739, 120.13980687],\n",
       "        [ 43.17845739, 120.14321079],\n",
       "        [ 43.17845739, 120.14661471],\n",
       "        ...,\n",
       "        [ 43.17845739, 127.10083166],\n",
       "        [ 43.17845739, 127.10423559],\n",
       "        [ 43.17845739, 127.10763951]]])"
      ]
     },
     "execution_count": 8,
     "metadata": {},
     "output_type": "execute_result"
    }
   ],
   "source": [
    "pixel_lat_lon_map"
   ]
  }
 ],
 "metadata": {
  "kernelspec": {
   "display_name": "Python 3",
   "language": "python",
   "name": "python3"
  },
  "language_info": {
   "codemirror_mode": {
    "name": "ipython",
    "version": 3
   },
   "file_extension": ".py",
   "mimetype": "text/x-python",
   "name": "python",
   "nbconvert_exporter": "python",
   "pygments_lexer": "ipython3",
   "version": "3.10.7"
  }
 },
 "nbformat": 4,
 "nbformat_minor": 2
}
