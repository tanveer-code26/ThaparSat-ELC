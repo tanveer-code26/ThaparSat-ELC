{
 "cells": [
  {
   "cell_type": "code",
   "execution_count": 2,
   "metadata": {},
   "outputs": [],
   "source": [
    "from netCDF4 import Dataset\n",
    "import matplotlib as mpl\n",
    "mpl.use('TkAgg')\n",
    "import matplotlib.pyplot as plt\n",
    "from mpl_toolkits.basemap import Basemap, cm\n",
    "import numpy as np\n",
    "import os"
   ]
  },
  {
   "cell_type": "code",
   "execution_count": 3,
   "metadata": {},
   "outputs": [
    {
     "name": "stdout",
     "output_type": "stream",
     "text": [
      "NetCDF file 'example_polar_stereographic.nc' created successfully.\n"
     ]
    }
   ],
   "source": [
    "from netCDF4 import Dataset\n",
    "\n",
    "# Create a new NetCDF file\n",
    "nc_file = Dataset('example_polar_stereographic.nc', 'w', format='NETCDF4_CLASSIC')\n",
    "\n",
    "# Create a new variable for the projection\n",
    "proj_var = nc_file.createVariable('polar_stereographic', 'i4')\n",
    "\n",
    "# Assign the attributes to the variable\n",
    "proj_var.long_name = 'Polar Stereographic Projection'\n",
    "proj_var.grid_mapping_name = 'polar_stereographic'\n",
    "proj_var.straight_vertical_longitude_from_pole = 0.0\n",
    "proj_var.latitude_of_projection_origin = 90.0\n",
    "proj_var.standard_parallel = 70.0\n",
    "proj_var.false_easting = 0.0\n",
    "proj_var.false_northing = 0.0\n",
    "proj_var.semi_major_axis = 6378137.0\n",
    "proj_var.semi_minor_axis = 6356752.31414\n",
    "proj_var.inverse_flattening = 298.2572221\n",
    "\n",
    "# Close the file\n",
    "nc_file.close()\n",
    "\n",
    "print(\"NetCDF file 'example_polar_stereographic.nc' created successfully.\")\n"
   ]
  },
  {
   "cell_type": "code",
   "execution_count": 3,
   "metadata": {},
   "outputs": [
    {
     "name": "stdout",
     "output_type": "stream",
     "text": [
      "example_polar_stereographic.nc\n"
     ]
    },
    {
     "ename": "KeyError",
     "evalue": "'x'",
     "output_type": "error",
     "traceback": [
      "\u001b[1;31m---------------------------------------------------------------------------\u001b[0m",
      "\u001b[1;31mKeyError\u001b[0m                                  Traceback (most recent call last)",
      "Cell \u001b[1;32mIn[3], line 70\u001b[0m\n\u001b[0;32m     67\u001b[0m file_indx \u001b[38;5;241m=\u001b[39m \u001b[38;5;241m6\u001b[39m\n\u001b[0;32m     69\u001b[0m \u001b[38;5;66;03m# main data grab from function above\u001b[39;00m\n\u001b[1;32m---> 70\u001b[0m lon, lat, data, data_units, data_time_grab, data_long_name, band_id, band_wavelength, band_units, var_name \u001b[38;5;241m=\u001b[39m \u001b[43mlat_lon_reproj\u001b[49m\u001b[43m(\u001b[49m\u001b[43mnc_folder\u001b[49m\u001b[43m,\u001b[49m\u001b[43m \u001b[49m\u001b[43mfile_indx\u001b[49m\u001b[43m)\u001b[49m\n\u001b[0;32m     72\u001b[0m bbox \u001b[38;5;241m=\u001b[39m [np\u001b[38;5;241m.\u001b[39mmin(lon), np\u001b[38;5;241m.\u001b[39mmin(lat), np\u001b[38;5;241m.\u001b[39mmax(lon), np\u001b[38;5;241m.\u001b[39mmax(lat)] \u001b[38;5;66;03m# set bounds for plotting\u001b[39;00m\n\u001b[0;32m     74\u001b[0m \u001b[38;5;66;03m# figure routine for visualization\u001b[39;00m\n",
      "Cell \u001b[1;32mIn[3], line 37\u001b[0m, in \u001b[0;36mlat_lon_reproj\u001b[1;34m(nc_folder, nc_indx)\u001b[0m\n\u001b[0;32m     34\u001b[0m r_pol \u001b[38;5;241m=\u001b[39m proj_info\u001b[38;5;241m.\u001b[39msemi_minor_axis\n\u001b[0;32m     36\u001b[0m \u001b[38;5;66;03m# grid info\u001b[39;00m\n\u001b[1;32m---> 37\u001b[0m x \u001b[38;5;241m=\u001b[39m \u001b[43mg16nc\u001b[49m\u001b[38;5;241;43m.\u001b[39;49m\u001b[43mvariables\u001b[49m\u001b[43m[\u001b[49m\u001b[38;5;124;43m'\u001b[39;49m\u001b[38;5;124;43mx\u001b[39;49m\u001b[38;5;124;43m'\u001b[39;49m\u001b[43m]\u001b[49m[:]\n\u001b[0;32m     38\u001b[0m y \u001b[38;5;241m=\u001b[39m g16nc\u001b[38;5;241m.\u001b[39mvariables[\u001b[38;5;124m'\u001b[39m\u001b[38;5;124my\u001b[39m\u001b[38;5;124m'\u001b[39m][:]\n\u001b[0;32m     40\u001b[0m \u001b[38;5;66;03m# data info    \u001b[39;00m\n",
      "\u001b[1;31mKeyError\u001b[0m: 'x'"
     ]
    }
   ],
   "source": [
    "def lat_lon_reproj(nc_folder, nc_indx):\n",
    "    os.chdir(nc_folder)\n",
    "    full_direc = os.listdir()\n",
    "    nc_files = [ii for ii in full_direc if ii.endswith('.nc')]\n",
    "    g16_data_file = nc_files[nc_indx] # select .nc file\n",
    "    print(nc_files[nc_indx]) # print file name\n",
    "\n",
    "    # designate dataset\n",
    "    g16nc = Dataset(g16_data_file, 'r')\n",
    "    var_names = [ii for ii in g16nc.variables]\n",
    "    var_name = var_names[0]\n",
    "    try:\n",
    "        band_id = g16nc.variables['band_id'][:]\n",
    "        band_id = ' (Band: {},'.format(band_id[0])\n",
    "        band_wavelength = g16nc.variables['band_wavelength']\n",
    "        band_wavelength_units = band_wavelength.units\n",
    "        band_wavelength_units = '{})'.format(band_wavelength_units)\n",
    "        band_wavelength = ' {0:.2f} '.format(band_wavelength[:][0])\n",
    "        print('Band ID: {}'.format(band_id))\n",
    "        print('Band Wavelength: {} {}'.format(band_wavelength,band_wavelength_units))\n",
    "    except:\n",
    "        band_id = ''\n",
    "        band_wavelength = ''\n",
    "        band_wavelength_units = ''\n",
    "\n",
    "    # Non-geostationary projection info and retrieving relevant constants\n",
    "    proj_info = g16nc.variables['polar_stereographic']\n",
    "    lon_origin = proj_info.straight_vertical_longitude_from_pole\n",
    "    lat_origin = proj_info.latitude_of_projection_origin\n",
    "    std_parallel = proj_info.standard_parallel\n",
    "    false_easting = proj_info.false_easting\n",
    "    false_northing = proj_info.false_northing\n",
    "    r_eq = proj_info.semi_major_axis\n",
    "    r_pol = proj_info.semi_minor_axis\n",
    "\n",
    "    # grid info\n",
    "    x = g16nc.variables['x'][:]\n",
    "    y = g16nc.variables['y'][:]\n",
    "\n",
    "    # data info    \n",
    "    data = g16nc.variables[var_name][:]\n",
    "    data_units = g16nc.variables[var_name].units\n",
    "    data_time_grab = ((g16nc.time_coverage_end).replace('T',' ')).replace('Z','')\n",
    "    data_long_name = g16nc.variables[var_name].long_name\n",
    "    \n",
    "    # close file when finished\n",
    "    g16nc.close()\n",
    "    g16nc = None\n",
    "\n",
    "    # create meshgrid filled with x and y coordinates\n",
    "    X, Y = np.meshgrid(x, y)\n",
    "\n",
    "    # lat/lon calc routine for polar stereographic projection\n",
    "    # Formula reference: https://proj.org/operations/projections/stere.html\n",
    "    t = np.sqrt(X**2 + Y**2)\n",
    "    theta = np.arctan2(X, -Y)\n",
    "    lat = 90 - 2 * np.arctan(t / (2 * r_eq)) * (180.0 / np.pi)\n",
    "    lon = (theta * (180.0 / np.pi) + lon_origin) % 360\n",
    "\n",
    "    # print test coordinates\n",
    "    print('{} N, {} W'.format(lat[318,1849], abs(lon[318,1849])))\n",
    "\n",
    "    return lon, lat, data, data_units, data_time_grab, data_long_name, band_id, band_wavelength, band_wavelength_units, var_name\n",
    "\n",
    "nc_folder = './rad_nc_files/' # define folder where .nc files are located\n",
    "\n",
    "file_indx = 6\n",
    "\n",
    "# main data grab from function above\n",
    "lon, lat, data, data_units, data_time_grab, data_long_name, band_id, band_wavelength, band_units, var_name = lat_lon_reproj(nc_folder, file_indx)\n",
    "\n",
    "bbox = [np.min(lon), np.min(lat), np.max(lon), np.max(lat)] # set bounds for plotting\n",
    "\n",
    "# figure routine for visualization\n",
    "fig = plt.figure(figsize=(9, 4), dpi=200)\n",
    "\n",
    "n_add = 0\n",
    "m = Basemap(llcrnrlon=bbox[0] - n_add, llcrnrlat=bbox[1] - n_add, urcrnrlon=bbox[2] + n_add, urcrnrlat=bbox[3] + n_add, resolution='i', projection='cyl')\n",
    "m.drawcoastlines(linewidth=0.5)\n",
    "m.drawcountries(linewidth=0.25)\n",
    "m.pcolormesh(lon, lat, data, latlon=True)\n",
    "parallels = (np.linspace(np.min(lat), np.max(lat), 5))\n",
    "m.drawparallels(parallels, labels=[True, False, False, False])\n",
    "meridians = np.linspace(np.min(lon), np.max(lon), 5)\n",
    "m.drawmeridians(meridians, labels=[False, False, False, True])\n",
    "cb = m.colorbar()\n",
    "\n",
    "data_units = ((data_units.replace('-', '^{-')).replace('1', '1}')).replace('2', '2}')\n",
    "plt.rc('text', usetex=True)\n",
    "cb.set_label(r'%s $ \\left[ \\mathrm{%s} \\right] $' % (var_name, data_units))\n",
    "plt.title('{0}{2}{3}{4} on {1}'.format(data_long_name, data_time_grab, band_id, band_wavelength, band_units))\n",
    "plt.tight_layout()\n",
    "\n",
    "plt.savefig('non_geo_demo.png', dpi=200)\n",
    "plt.show()\n"
   ]
  }
 ],
 "metadata": {
  "kernelspec": {
   "display_name": "Python 3",
   "language": "python",
   "name": "python3"
  },
  "language_info": {
   "codemirror_mode": {
    "name": "ipython",
    "version": 3
   },
   "file_extension": ".py",
   "mimetype": "text/x-python",
   "name": "python",
   "nbconvert_exporter": "python",
   "pygments_lexer": "ipython3",
   "version": "3.10.7"
  }
 },
 "nbformat": 4,
 "nbformat_minor": 2
}
