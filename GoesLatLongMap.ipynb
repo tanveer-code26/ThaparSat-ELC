{
 "cells": [
  {
   "cell_type": "code",
   "execution_count": 1,
   "metadata": {},
   "outputs": [],
   "source": [
    "from netCDF4 import Dataset\n",
    "import numpy as np\n",
    "import os"
   ]
  },
  {
   "cell_type": "code",
   "execution_count": 2,
   "metadata": {},
   "outputs": [
    {
     "name": "stdout",
     "output_type": "stream",
     "text": [
      "ABI-L1b-RadC_2024_001_00_OR_ABI-L1b-RadC-M6C01_G16_s20240010026173_e20240010028546_c20240010028583.nc\n"
     ]
    }
   ],
   "source": [
    "# navigate to directory with .nc data files (raw radiance files in my case)\n",
    "os.chdir('./rad_nc_files/')\n",
    "full_direc = os.listdir()\n",
    "nc_files = [ii for ii in full_direc if ii.endswith('.nc')]\n",
    "nc_indx = 5 \n",
    "g16_data_file = nc_files[nc_indx]\n",
    "print(nc_files[nc_indx])\n",
    "\n",
    "g16nc = Dataset(g16_data_file, 'r')\n",
    "\n",
    "proj_info = g16nc.variables['goes_imager_projection']"
   ]
  },
  {
   "cell_type": "code",
   "execution_count": 3,
   "metadata": {},
   "outputs": [
    {
     "data": {
      "text/plain": [
       "<class 'netCDF4._netCDF4.Variable'>\n",
       "int32 goes_imager_projection()\n",
       "    long_name: GOES-R ABI fixed grid projection\n",
       "    grid_mapping_name: geostationary\n",
       "    perspective_point_height: 35786023.0\n",
       "    semi_major_axis: 6378137.0\n",
       "    semi_minor_axis: 6356752.31414\n",
       "    inverse_flattening: 298.2572221\n",
       "    latitude_of_projection_origin: 0.0\n",
       "    longitude_of_projection_origin: -75.0\n",
       "    sweep_angle_axis: x\n",
       "unlimited dimensions: \n",
       "current shape = ()\n",
       "filling on, default _FillValue of -2147483647 used"
      ]
     },
     "execution_count": 3,
     "metadata": {},
     "output_type": "execute_result"
    }
   ],
   "source": [
    "proj_info"
   ]
  },
  {
   "cell_type": "code",
   "execution_count": 4,
   "metadata": {},
   "outputs": [
    {
     "name": "stdout",
     "output_type": "stream",
     "text": [
      "ABI-L1b-RadC_2024_001_00_OR_ABI-L1b-RadC-M6C01_G16_s20240010016173_e20240010018546_c20240010018587.nc\n"
     ]
    }
   ],
   "source": [
    "# navigate to directory with .nc data files (raw radiance files in my case)\n",
    "#os.chdir('rad_nc_files')\n",
    "full_direc = os.listdir()\n",
    "nc_files = [ii for ii in full_direc if ii.endswith('.nc')]\n",
    "nc_indx = 3\n",
    "g16_data_file = nc_files[nc_indx] # select .nc file\n",
    "print(nc_files[nc_indx]) # print file name"
   ]
  },
  {
   "cell_type": "code",
   "execution_count": 5,
   "metadata": {},
   "outputs": [
    {
     "name": "stderr",
     "output_type": "stream",
     "text": [
      "C:\\Users\\MSI\\AppData\\Local\\Temp\\ipykernel_10620\\1243572706.py:30: RuntimeWarning: invalid value encountered in sqrt\n",
      "  r_s = (-1.0*b_var - np.sqrt((b_var**2)-(4.0*a_var*c_var)))/(2.0*a_var)\n",
      "C:\\Users\\MSI\\AppData\\Local\\Temp\\ipykernel_10620\\1243572706.py:36: RuntimeWarning: invalid value encountered in sqrt\n",
      "  lat = (180.0/np.pi)*(np.arctan(((r_eq*r_eq)/(r_pol*r_pol))*((s_z/np.sqrt(((H-s_x)*(H-s_x))+(s_y*s_y))))))\n"
     ]
    },
    {
     "name": "stdout",
     "output_type": "stream",
     "text": [
      "46.14130401611328 N, 100.5204849243164 W\n"
     ]
    }
   ],
   "source": [
    "# designate dataset\n",
    "g16nc = Dataset(g16_data_file, 'r')\n",
    "\n",
    "# GOES-R projection info and retrieving relevant constants\n",
    "proj_info = g16nc.variables['goes_imager_projection']\n",
    "lon_origin = proj_info.longitude_of_projection_origin\n",
    "H = proj_info.perspective_point_height+proj_info.semi_major_axis\n",
    "r_eq = proj_info.semi_major_axis\n",
    "r_pol = proj_info.semi_minor_axis\n",
    "\n",
    "# Data info\n",
    "lat_rad_1d = g16nc.variables['x'][:]\n",
    "lon_rad_1d = g16nc.variables['y'][:]\n",
    "\n",
    "# close file when finished\n",
    "g16nc.close()\n",
    "g16nc = None\n",
    "\n",
    "# create meshgrid filled with radian angles\n",
    "lat_rad,lon_rad = np.meshgrid(lat_rad_1d,lon_rad_1d)\n",
    "\n",
    "# lat/lon calc routine from satellite radian angle vectors\n",
    "\n",
    "lambda_0 = (lon_origin*np.pi)/180.0\n",
    "\n",
    "a_var = np.power(np.sin(lat_rad),2.0) + (np.power(np.cos(lat_rad),2.0)*(np.power(np.cos(lon_rad),2.0)+(((r_eq*r_eq)/(r_pol*r_pol))*np.power(np.sin(lon_rad),2.0))))\n",
    "b_var = -2.0*H*np.cos(lat_rad)*np.cos(lon_rad)\n",
    "c_var = (H**2.0)-(r_eq**2.0)\n",
    "\n",
    "r_s = (-1.0*b_var - np.sqrt((b_var**2)-(4.0*a_var*c_var)))/(2.0*a_var)\n",
    "\n",
    "s_x = r_s*np.cos(lat_rad)*np.cos(lon_rad)\n",
    "s_y = - r_s*np.sin(lat_rad)\n",
    "s_z = r_s*np.cos(lat_rad)*np.sin(lon_rad)\n",
    "\n",
    "lat = (180.0/np.pi)*(np.arctan(((r_eq*r_eq)/(r_pol*r_pol))*((s_z/np.sqrt(((H-s_x)*(H-s_x))+(s_y*s_y))))))\n",
    "lon = (lambda_0 - np.arctan(s_y/(H-s_x)))*(180.0/np.pi)\n",
    "\n",
    "\n",
    "# print test coordinates\n",
    "print('{} N, {} W'.format(lat[318,1849],abs(lon[318,1849])))"
   ]
  },
  {
   "cell_type": "code",
   "execution_count": 2,
   "metadata": {},
   "outputs": [],
   "source": [
    "from netCDF4 import Dataset\n",
    "import matplotlib as mpl\n",
    "mpl.use('TkAgg')\n",
    "import matplotlib.pyplot as plt\n",
    "from mpl_toolkits.basemap import Basemap, cm\n",
    "import numpy as np\n",
    "import os"
   ]
  },
  {
   "cell_type": "code",
   "execution_count": 3,
   "metadata": {},
   "outputs": [
    {
     "name": "stdout",
     "output_type": "stream",
     "text": [
      "ABI-L1b-RadC_2024_001_00_OR_ABI-L1b-RadC-M6C01_G16_s20240010026173_e20240010028546_c20240010028583.nc\n",
      "Band ID:  (Band: 1,\n",
      "Band Wavelength:  0.47  um)\n"
     ]
    },
    {
     "name": "stderr",
     "output_type": "stream",
     "text": [
      "C:\\Users\\MSI\\AppData\\Local\\Temp\\ipykernel_16456\\3500392613.py:58: RuntimeWarning: invalid value encountered in sqrt\n",
      "  r_s = (-1.0*b_var - np.sqrt((b_var**2)-(4.0*a_var*c_var)))/(2.0*a_var)\n",
      "C:\\Users\\MSI\\AppData\\Local\\Temp\\ipykernel_16456\\3500392613.py:64: RuntimeWarning: invalid value encountered in sqrt\n",
      "  lat = (180.0/np.pi)*(np.arctan(((r_eq*r_eq)/(r_pol*r_pol))*((s_z/np.sqrt(((H-s_x)*(H-s_x))+(s_y*s_y))))))\n"
     ]
    },
    {
     "name": "stdout",
     "output_type": "stream",
     "text": [
      "46.14130401611328 N, 100.5204849243164 W\n"
     ]
    },
    {
     "name": "stderr",
     "output_type": "stream",
     "text": [
      "C:\\Users\\MSI\\AppData\\Local\\Temp\\ipykernel_16456\\3500392613.py:90: UserWarning: The input coordinates to pcolormesh are interpreted as cell centers, but are not monotonically increasing or decreasing. This may lead to incorrectly calculated cell edges, in which case, please supply explicit cell edges to pcolormesh.\n",
      "  m.pcolormesh(lon.data, lat.data, data, latlon=True)\n"
     ]
    }
   ],
   "source": [
    "def lat_lon_reproj(nc_folder,nc_indx):\n",
    "    os.chdir(nc_folder)\n",
    "    full_direc = os.listdir()\n",
    "    nc_files = [ii for ii in full_direc if ii.endswith('.nc')]\n",
    "    g16_data_file = nc_files[nc_indx] # select .nc file\n",
    "    print(nc_files[nc_indx]) # print file name\n",
    "\n",
    "    # designate dataset\n",
    "    g16nc = Dataset(g16_data_file, 'r')\n",
    "    var_names = [ii for ii in g16nc.variables]\n",
    "    var_name = var_names[0]\n",
    "    try:\n",
    "        band_id = g16nc.variables['band_id'][:]\n",
    "        band_id = ' (Band: {},'.format(band_id[0])\n",
    "        band_wavelength = g16nc.variables['band_wavelength']\n",
    "        band_wavelength_units = band_wavelength.units\n",
    "        band_wavelength_units = '{})'.format(band_wavelength_units)\n",
    "        band_wavelength = ' {0:.2f} '.format(band_wavelength[:][0])\n",
    "        print('Band ID: {}'.format(band_id))\n",
    "        print('Band Wavelength: {} {}'.format(band_wavelength,band_wavelength_units))\n",
    "    except:\n",
    "        band_id = ''\n",
    "        band_wavelength = ''\n",
    "        band_wavelength_units = ''\n",
    "\n",
    "    # GOES-R projection info and retrieving relevant constants\n",
    "    proj_info = g16nc.variables['goes_imager_projection']\n",
    "    lon_origin = proj_info.longitude_of_projection_origin\n",
    "    H = proj_info.perspective_point_height+proj_info.semi_major_axis\n",
    "    r_eq = proj_info.semi_major_axis\n",
    "    r_pol = proj_info.semi_minor_axis\n",
    "\n",
    "    # grid info\n",
    "    lat_rad_1d = g16nc.variables['x'][:]\n",
    "    lon_rad_1d = g16nc.variables['y'][:]\n",
    "\n",
    "    # data info\n",
    "    data = g16nc.variables[var_name][:]\n",
    "    data_units = g16nc.variables[var_name].units\n",
    "    data_time_grab = ((g16nc.time_coverage_end).replace('T',' ')).replace('Z','')\n",
    "    data_long_name = g16nc.variables[var_name].long_name\n",
    "    \n",
    "    # close file when finished\n",
    "    g16nc.close()\n",
    "    g16nc = None\n",
    "\n",
    "    # create meshgrid filled with radian angles\n",
    "    lat_rad,lon_rad = np.meshgrid(lat_rad_1d,lon_rad_1d)\n",
    "\n",
    "    # lat/lon calc routine from satellite radian angle vectors\n",
    "\n",
    "    lambda_0 = (lon_origin*np.pi)/180.0\n",
    "\n",
    "    a_var = np.power(np.sin(lat_rad),2.0) + (np.power(np.cos(lat_rad),2.0)*(np.power(np.cos(lon_rad),2.0)+(((r_eq*r_eq)/(r_pol*r_pol))*np.power(np.sin(lon_rad),2.0))))\n",
    "    b_var = -2.0*H*np.cos(lat_rad)*np.cos(lon_rad)\n",
    "    c_var = (H**2.0)-(r_eq**2.0)\n",
    "\n",
    "    r_s = (-1.0*b_var - np.sqrt((b_var**2)-(4.0*a_var*c_var)))/(2.0*a_var)\n",
    "\n",
    "    s_x = r_s*np.cos(lat_rad)*np.cos(lon_rad)\n",
    "    s_y = - r_s*np.sin(lat_rad)\n",
    "    s_z = r_s*np.cos(lat_rad)*np.sin(lon_rad)\n",
    "\n",
    "    lat = (180.0/np.pi)*(np.arctan(((r_eq*r_eq)/(r_pol*r_pol))*((s_z/np.sqrt(((H-s_x)*(H-s_x))+(s_y*s_y))))))\n",
    "    lon = (lambda_0 - np.arctan(s_y/(H-s_x)))*(180.0/np.pi)\n",
    "\n",
    "\n",
    "    # print test coordinates\n",
    "    print('{} N, {} W'.format(lat[318,1849],abs(lon[318,1849])))\n",
    "\n",
    "    return lon,lat,data,data_units,data_time_grab,data_long_name,band_id,band_wavelength,band_wavelength_units,var_name\n",
    "\n",
    "nc_folder = './rad_nc_files/' # define folder where .nc files are located\n",
    "\n",
    "file_indx = 5\n",
    "\n",
    "# main data grab from function above\n",
    "lon,lat,data,data_units,data_time_grab,data_long_name,band_id,band_wavelength,band_units,var_name = lat_lon_reproj(nc_folder,file_indx)\n",
    "\n",
    "bbox = [np.min(lon),np.min(lat),np.max(lon),np.max(lat)] # set bounds for plotting\n",
    "\n",
    "# figure routine for visualization\n",
    "fig = plt.figure(figsize=(9,4),dpi=200)\n",
    "\n",
    "n_add = 0\n",
    "m = Basemap(llcrnrlon=bbox[0]-n_add,llcrnrlat=bbox[1]-n_add,urcrnrlon=bbox[2]+n_add,urcrnrlat=bbox[3]+n_add,resolution='i', projection='cyl')\n",
    "m.drawcoastlines(linewidth=0.5)\n",
    "m.drawcountries(linewidth=0.25)\n",
    "m.pcolormesh(lon.data, lat.data, data, latlon=True)\n",
    "parallels = (np.linspace(np.min(lat),np.max(lat),5))\n",
    "m.drawparallels(parallels,labels=[True,False,False,False])\n",
    "meridians = np.linspace(np.min(lon),np.max(lon),5)\n",
    "m.drawmeridians(meridians,labels=[False,False,False,True])\n",
    "cb = m.colorbar()\n",
    "\n",
    "data_units = ((data_units.replace('-','^{-')).replace('1','1}')).replace('2','2}')\n",
    "plt.rc('text', usetex=True)\n",
    "cb.set_label(r'%s $ \\left[ \\mathrm{%s} \\right] $'% (var_name,data_units))\n",
    "plt.title('{0}{2}{3}{4} on {1}'.format(data_long_name,data_time_grab,band_id,band_wavelength,band_units))\n",
    "plt.tight_layout()\n",
    "\n",
    "plt.savefig('goes_16_demo.png',dpi=200)\n",
    "plt.show()"
   ]
  }
 ],
 "metadata": {
  "kernelspec": {
   "display_name": "Python 3",
   "language": "python",
   "name": "python3"
  },
  "language_info": {
   "codemirror_mode": {
    "name": "ipython",
    "version": 3
   },
   "file_extension": ".py",
   "mimetype": "text/x-python",
   "name": "python",
   "nbconvert_exporter": "python",
   "pygments_lexer": "ipython3",
   "version": "3.10.7"
  }
 },
 "nbformat": 4,
 "nbformat_minor": 2
}
